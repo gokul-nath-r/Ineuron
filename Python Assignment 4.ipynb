{
 "cells": [
  {
   "cell_type": "markdown",
   "metadata": {},
   "source": [
    " ### Name: Gokul Nath R"
   ]
  },
  {
   "cell_type": "markdown",
   "metadata": {},
   "source": [
    "# Assignment no : 4"
   ]
  },
  {
   "cell_type": "markdown",
   "metadata": {},
   "source": [
    "1.1 Write a Python Program(with class concepts) to find the area of the triangle using the below\n",
    "formula.\n",
    "area = (s*(s-a)*(s-b)*(s-c)) ** 0.5\n",
    "Function to take the length of the sides of triangle from user should be defined in the parent\n",
    "class and function to calculate the area should be defined in subclass."
   ]
  },
  {
   "cell_type": "code",
   "execution_count": 33,
   "metadata": {},
   "outputs": [
    {
     "name": "stdout",
     "output_type": "stream",
     "text": [
      "Enter the 1st side of the triangle: 2\n",
      "Enter the 2nd side of the triangle: 2\n",
      "Enter the 3rd side of the triangle: 2\n"
     ]
    },
    {
     "data": {
      "text/plain": [
       "1.7320508075688772"
      ]
     },
     "execution_count": 33,
     "metadata": {},
     "output_type": "execute_result"
    }
   ],
   "source": [
    "class Side:\n",
    "    def __init__(self):\n",
    "        pass\n",
    "    def side_of_tri(self):\n",
    "        self.a = int(input(\"Enter the 1st side of the triangle: \"))\n",
    "        self.b = int(input(\"Enter the 2nd side of the triangle: \"))\n",
    "        self.c = int(input(\"Enter the 3rd side of the triangle: \"))\n",
    "        \n",
    "\n",
    "class Area(Side):\n",
    "    def __init__(self):\n",
    "        super().__init__()\n",
    "        self.side_of_tri()\n",
    "        \n",
    "    def calculate(self):\n",
    "        self.s = (self.a+self.b+self.c)/2\n",
    "        area = (self.s*(self.s-self.a)*(self.s-self.b)*(self.s-self.c)) ** 0.5\n",
    "        return area\n",
    "        \n",
    "a1 = Area()\n",
    "a1.calculate()\n"
   ]
  },
  {
   "cell_type": "markdown",
   "metadata": {},
   "source": [
    "1.2 Write a function filter_long_words() that takes a list of words and an integer n and returns\n",
    "the list of words that are longer than n."
   ]
  },
  {
   "cell_type": "code",
   "execution_count": 14,
   "metadata": {},
   "outputs": [
    {
     "data": {
      "text/plain": [
       "['gokul', 'hello']"
      ]
     },
     "execution_count": 14,
     "metadata": {},
     "output_type": "execute_result"
    }
   ],
   "source": [
    "def filter_long_words(word_lst, n):\n",
    "    filtered_lst=[x for x in word_lst if len(x)>n]\n",
    "    return filtered_lst\n",
    "\n",
    "word_lst=['gokul','hi','hello']\n",
    "filter_long_words(word_lst,3)\n",
    "    "
   ]
  },
  {
   "cell_type": "markdown",
   "metadata": {},
   "source": [
    "2.1 Write a Python program using function concept that maps list of words into a list of integers\n",
    "representing the lengths of the corresponding words."
   ]
  },
  {
   "cell_type": "code",
   "execution_count": 12,
   "metadata": {
    "scrolled": true
   },
   "outputs": [
    {
     "data": {
      "text/plain": [
       "[5, 2, 5]"
      ]
     },
     "execution_count": 12,
     "metadata": {},
     "output_type": "execute_result"
    }
   ],
   "source": [
    "def words_length(lst):\n",
    "    return list(map(lambda x:len(x), lst))\n",
    "\n",
    "lst=['gokul','hi','hello']\n",
    "words_length(lst)\n",
    "    "
   ]
  },
  {
   "cell_type": "markdown",
   "metadata": {},
   "source": [
    "2.2 Write a Python function which takes a character (i.e. a string of length 1) and returns True if\n",
    "it is a vowel, False otherwise."
   ]
  },
  {
   "cell_type": "code",
   "execution_count": 4,
   "metadata": {},
   "outputs": [
    {
     "name": "stdout",
     "output_type": "stream",
     "text": [
      "enter the character :r\n"
     ]
    },
    {
     "data": {
      "text/plain": [
       "False"
      ]
     },
     "execution_count": 4,
     "metadata": {},
     "output_type": "execute_result"
    }
   ],
   "source": [
    "def check_vowel(char):\n",
    "    vowels=['a','e','i','o','u']\n",
    "    if len(char)==1 and char in vowels:\n",
    "        return True\n",
    "    else:\n",
    "        return False\n",
    "        \n",
    "char = input(\"enter the character :\")\n",
    "check_vowel(char)"
   ]
  },
  {
   "cell_type": "code",
   "execution_count": null,
   "metadata": {},
   "outputs": [],
   "source": []
  }
 ],
 "metadata": {
  "kernelspec": {
   "display_name": "Python 3",
   "language": "python",
   "name": "python3"
  },
  "language_info": {
   "codemirror_mode": {
    "name": "ipython",
    "version": 3
   },
   "file_extension": ".py",
   "mimetype": "text/x-python",
   "name": "python",
   "nbconvert_exporter": "python",
   "pygments_lexer": "ipython3",
   "version": "3.8.3"
  }
 },
 "nbformat": 4,
 "nbformat_minor": 4
}
